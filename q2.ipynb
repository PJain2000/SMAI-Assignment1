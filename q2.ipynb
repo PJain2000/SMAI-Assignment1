{
 "cells": [
  {
   "cell_type": "code",
   "execution_count": 16,
   "metadata": {},
   "outputs": [],
   "source": [
    "import numpy as np\n",
    "import csv\n",
    "import random\n",
    "import math\n",
    "from sklearn.metrics import accuracy_score\n",
    "from sklearn.metrics import f1_score\n",
    "import matplotlib.pyplot as plt"
   ]
  },
  {
   "cell_type": "code",
   "execution_count": 2,
   "metadata": {},
   "outputs": [],
   "source": [
    "data = np.genfromtxt('./Datasets/q2/train.csv', delimiter=',', dtype=str)"
   ]
  },
  {
   "cell_type": "code",
   "execution_count": 3,
   "metadata": {},
   "outputs": [],
   "source": [
    "d = {'b':0, 'c':0, 'u':0, 'e':0, 'z':0, 'r':0}\n",
    "for row in data:\n",
    "    if row[11] != '?':\n",
    "        d[row[11]] += 1\n",
    "\n",
    "mode = max(d, key=d.get)\n",
    "\n",
    "for row in data:\n",
    "    if row[11] == '?':\n",
    "        d[row[11]] = mode"
   ]
  },
  {
   "cell_type": "code",
   "execution_count": 4,
   "metadata": {},
   "outputs": [],
   "source": [
    "a = data.shape\n",
    "n1 = int(0.8*a[0])\n",
    "n2 = a[1]"
   ]
  },
  {
   "cell_type": "code",
   "execution_count": 5,
   "metadata": {},
   "outputs": [],
   "source": [
    "np.random.shuffle(data)"
   ]
  },
  {
   "cell_type": "code",
   "execution_count": 6,
   "metadata": {},
   "outputs": [],
   "source": [
    "train_data = data[0:n1,:]\n",
    "validation_data = data[n1:a[0],:]"
   ]
  },
  {
   "cell_type": "code",
   "execution_count": 7,
   "metadata": {},
   "outputs": [],
   "source": [
    "x_train = train_data[:,1:n2]\n",
    "y_train = train_data[:,0]"
   ]
  },
  {
   "cell_type": "code",
   "execution_count": 8,
   "metadata": {},
   "outputs": [],
   "source": [
    "x_validation = validation_data[:,1:n2]\n",
    "y_validation = validation_data[:,0]"
   ]
  },
  {
   "cell_type": "code",
   "execution_count": 9,
   "metadata": {},
   "outputs": [],
   "source": [
    "def hamming_distance(a,b):\n",
    "    n = a.shape\n",
    "    dist = 0\n",
    "    for i in range(0,n[0]):\n",
    "        if a[i] != b[i]:\n",
    "            dist += 1\n",
    "        \n",
    "    return dist"
   ]
  },
  {
   "cell_type": "code",
   "execution_count": 10,
   "metadata": {},
   "outputs": [],
   "source": [
    "def knnClassifier(validation_point, k):\n",
    "    distance = []\n",
    "\n",
    "    for train_point in x_train:\n",
    "        distance.append(hamming_distance(train_point, validation_point))\n",
    "        \n",
    "    idx = np.argpartition(distance, k)\n",
    "    y_predicted = []\n",
    "    \n",
    "    for i in range(0,k):\n",
    "        y_predicted.append(y_train[np.where(idx == i)])\n",
    "        \n",
    "#     ans = random.choice(y_predicted)\n",
    "    \n",
    "    d = {'e': 0, 'p': 0}\n",
    "    \n",
    "    for i in y_predicted:\n",
    "        d[i[0]] += 1\n",
    "    \n",
    "    ans = max(d, key=d.get)\n",
    "        \n",
    "    return ans"
   ]
  },
  {
   "cell_type": "code",
   "execution_count": 18,
   "metadata": {},
   "outputs": [],
   "source": [
    "accuracy = []\n",
    "f1scores = []\n",
    "for k in range(1,10):\n",
    "    y_predicted = []\n",
    "    for i in x_validation:\n",
    "        y_predicted.append(knnClassifier(i, k))\n",
    "    \n",
    "    accuracy.append(accuracy_score(y_validation, y_predicted))\n",
    "    f1scores.append(f1_score(y_validation, y_predicted, average=None))"
   ]
  },
  {
   "cell_type": "code",
   "execution_count": 19,
   "metadata": {},
   "outputs": [
    {
     "name": "stdout",
     "output_type": "stream",
     "text": [
      "[1.0, 1.0, 0.6766666666666666, 0.6977777777777778, 0.7311111111111112, 0.73, 0.7377777777777778, 0.7588888888888888, 0.7344444444444445]\n"
     ]
    }
   ],
   "source": [
    "print(accuracy)"
   ]
  },
  {
   "cell_type": "code",
   "execution_count": 20,
   "metadata": {},
   "outputs": [
    {
     "data": {
      "image/png": "[encoded data removed]",
      "text/plain": [
       "<Figure size 432x288 with 1 Axes>"
      ]
     },
     "metadata": {
      "needs_background": "light"
     },
     "output_type": "display_data"
    }
   ],
   "source": [
    "k = [1,2,3,4,5,6,7,8,9]\n",
    "plt.plot(k, accuracy)  \n",
    "plt.xlabel('k')\n",
    "plt.ylabel('Accuracy')\n",
    "plt.title('Plot1')\n",
    "plt.show() "
   ]
  },
  {
   "cell_type": "code",
   "execution_count": 21,
   "metadata": {},
   "outputs": [
    {
     "data": {
      "image/png": "[encoded data removed]",
      "text/plain": [
       "<Figure size 432x288 with 1 Axes>"
      ]
     },
     "metadata": {
      "needs_background": "light"
     },
     "output_type": "display_data"
    }
   ],
   "source": [
    "k = [1,2,3,4,5,6,7,8,9]\n",
    "plt.plot(k, f1scores)  \n",
    "plt.xlabel('k')\n",
    "plt.ylabel('f1 Score')\n",
    "plt.title('Plot2')\n",
    "plt.show()"
   ]
  },
  {
   "cell_type": "code",
   "execution_count": 22,
   "metadata": {},
   "outputs": [
    {
     "name": "stdout",
     "output_type": "stream",
     "text": [
      "[array([1., 1.]), array([1., 1.]), array([0.55161787, 0.74717637]), array([0.62739726, 0.74579439]), array([0.56939502, 0.80452342]), array([0.6112    , 0.79319149]), array([0.52988048, 0.81818182]), array([0.61728395, 0.82400649]), array([0.5031185 , 0.81880212])]\n"
     ]
    }
   ],
   "source": [
    "print(f1scores)"
   ]
  },
  {
   "cell_type": "code",
   "execution_count": null,
   "metadata": {},
   "outputs": [],
   "source": []
  }
 ],
 "metadata": {
  "kernelspec": {
   "display_name": "Python 3",
   "language": "python",
   "name": "python3"
  },
  "language_info": {
   "codemirror_mode": {
    "name": "ipython",
    "version": 3
   },
   "file_extension": ".py",
   "mimetype": "text/x-python",
   "name": "python",
   "nbconvert_exporter": "python",
   "pygments_lexer": "ipython3",
   "version": "3.7.3"
  }
 },
 "nbformat": 4,
 "nbformat_minor": 4
}
